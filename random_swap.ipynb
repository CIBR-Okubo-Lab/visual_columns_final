{
 "cells": [
  {
   "cell_type": "code",
   "execution_count": 1,
   "id": "061bc6e4-88ae-437a-ae44-4c2798d613d9",
   "metadata": {},
   "outputs": [],
   "source": [
    "using CSV\n",
    "using DataFrames\n",
    "using JLD2\n",
    "using LinearAlgebra\n",
    "using ProgressMeter\n",
    "using Random\n",
    "using SparseArrays\n",
    "using StatsBase"
   ]
  },
  {
   "cell_type": "code",
   "execution_count": 2,
   "id": "a0386665-765c-4bc3-9209-86877b7e001e",
   "metadata": {},
   "outputs": [
    {
     "data": {
      "text/plain": [
       "TaskLocalRNG()"
      ]
     },
     "execution_count": 2,
     "metadata": {},
     "output_type": "execute_result"
    }
   ],
   "source": [
    "Random.seed!(1234)"
   ]
  },
  {
   "cell_type": "code",
   "execution_count": 3,
   "id": "6a7244b3-d28c-48c3-8abb-2857c311e8ea",
   "metadata": {},
   "outputs": [],
   "source": [
    "df_neurons = CSV.read(\"./data/ol_columns.csv\", DataFrame; header=true);"
   ]
  },
  {
   "cell_type": "code",
   "execution_count": 4,
   "id": "a05781bb-b50c-4595-bbe4-a888ccb028b9",
   "metadata": {},
   "outputs": [
    {
     "data": {
      "text/plain": [
       "(23452, 796, 31)"
      ]
     },
     "execution_count": 4,
     "metadata": {},
     "output_type": "execute_result"
    }
   ],
   "source": [
    "N = nrow(df_neurons)\n",
    "K = length(unique(df_neurons[!, \"column id\"])) - 1\n",
    "T = length(unique(df_neurons[!, \"cell type\"]))\n",
    "N, K, T"
   ]
  },
  {
   "cell_type": "code",
   "execution_count": 5,
   "id": "ff40171b-7ce4-4b91-a4c5-a316b7c428d7",
   "metadata": {},
   "outputs": [],
   "source": [
    "d_neuron = Dict(df_neurons[!, \"cell id\"] .=> 1:N)\n",
    "d_type = Dict(unique(df_neurons[!, \"cell type\"]) .=> 1:T);"
   ]
  },
  {
   "cell_type": "code",
   "execution_count": 6,
   "id": "9784a9c6-52ad-4557-8341-7be1090f57a1",
   "metadata": {},
   "outputs": [
    {
     "name": "stdout",
     "output_type": "stream",
     "text": [
      "  0.126217 seconds (436.58 k allocations: 32.506 MiB, 82.39% compilation time)\n"
     ]
    }
   ],
   "source": [
    "@time begin\n",
    "    X = zeros(Int8, N, K)\n",
    "    Y = zeros(Int8, N, T)\n",
    "\n",
    "    for idx in 1:N\n",
    "        row = df_neurons[idx, :]\n",
    "        Y[idx, d_type[row[\"cell type\"]]] = 1\n",
    "        if row[\"column id\"] != \"not assigned\"\n",
    "            col = parse(Int, row[\"column id\"])\n",
    "            X[idx, col] = 1\n",
    "        end\n",
    "    end\n",
    "end"
   ]
  },
  {
   "cell_type": "code",
   "execution_count": 7,
   "id": "e3020e6e-db90-4da1-ab4d-658e60a74b70",
   "metadata": {},
   "outputs": [],
   "source": [
    "df_conn = CSV.read(\"./data/ol_connections.csv\", DataFrame);"
   ]
  },
  {
   "cell_type": "code",
   "execution_count": 8,
   "id": "0f0ebffc-a219-420a-a3a7-49a01cc95a80",
   "metadata": {},
   "outputs": [
    {
     "name": "stdout",
     "output_type": "stream",
     "text": [
      "  0.288091 seconds (3.80 M allocations: 1.106 GiB, 4.34% gc time, 5.13% compilation time)\n"
     ]
    }
   ],
   "source": [
    "@time begin\n",
    "    W = zeros(Int16, N, N)\n",
    "\n",
    "    for row in eachrow(df_conn)\n",
    "        i = row[\"from cell id\"]\n",
    "        j = row[\"to cell id\"]\n",
    "        w = row[\"synapses\"]\n",
    "        W[d_neuron[i], d_neuron[j]] = w\n",
    "    end\n",
    "end"
   ]
  },
  {
   "cell_type": "code",
   "execution_count": 9,
   "id": "96ffcc2f-6dc1-4db1-8548-7a18f87ade41",
   "metadata": {},
   "outputs": [
    {
     "data": {
      "text/plain": [
       "f (generic function with 1 method)"
      ]
     },
     "execution_count": 9,
     "metadata": {},
     "output_type": "execute_result"
    }
   ],
   "source": [
    "function f(X, W)\n",
    "    X_sparse = sparse(X)\n",
    "    W_sparse = sparse(W)\n",
    "    return sum(W_sparse .* (X_sparse * X_sparse'))\n",
    "end"
   ]
  },
  {
   "cell_type": "code",
   "execution_count": 10,
   "id": "80cefea2-c20d-4cf6-86f6-66dbfb10c98a",
   "metadata": {},
   "outputs": [
    {
     "data": {
      "text/plain": [
       "1381915"
      ]
     },
     "execution_count": 10,
     "metadata": {},
     "output_type": "execute_result"
    }
   ],
   "source": [
    "orig_f = f(X, W)\n",
    "curr_f = orig_f"
   ]
  },
  {
   "cell_type": "code",
   "execution_count": 11,
   "id": "84ca876c-92f2-4ed0-9e13-7932d13fb76e",
   "metadata": {},
   "outputs": [
    {
     "data": {
      "text/plain": [
       "5-element Vector{Int64}:\n",
       " 29\n",
       " 31\n",
       " 14\n",
       " 13\n",
       " 12"
      ]
     },
     "execution_count": 11,
     "metadata": {},
     "output_type": "execute_result"
    }
   ],
   "source": [
    "types_of_interest = [\"R7\", \"R8\", \"T2a\", \"T3\", \"Tm3\"]\n",
    "type_list = [d_type[cell_type] for cell_type in types_of_interest]"
   ]
  },
  {
   "cell_type": "code",
   "execution_count": 12,
   "id": "1886fd25-42e3-4e54-9477-1a77bdf855c6",
   "metadata": {},
   "outputs": [
    {
     "data": {
      "text/plain": [
       "delta_f (generic function with 1 method)"
      ]
     },
     "execution_count": 12,
     "metadata": {},
     "output_type": "execute_result"
    }
   ],
   "source": [
    "function find_column(X, idx)\n",
    "    # Find the column of a given neuron\n",
    "    col_list = findall(X[idx, :] .!= 0)\n",
    "    if length(col_list) == 1\n",
    "        return col_list[1]\n",
    "    elseif isempty(col_list)\n",
    "        return NaN\n",
    "    else\n",
    "        error(\"Something wrong with column assignment\")\n",
    "    end\n",
    "end\n",
    "\n",
    "function find_colmates(X, k)\n",
    "    # Find all the neurons in a given column k (\"column mates\")\n",
    "    if isnan(k)\n",
    "        return Int8[]\n",
    "    else\n",
    "        colmates = findall(X[:, k] .== 1)\n",
    "        return colmates\n",
    "    end\n",
    "end\n",
    "\n",
    "function update_colmates(colmates, idx_remove, idx_add)\n",
    "    # Update the colmates after swap\n",
    "    if isempty(colmates)\n",
    "        return Int8[]\n",
    "    end\n",
    "    s_1 = Set(colmates)\n",
    "    s_2 = Set([idx_remove])\n",
    "    s_3 = Set([idx_add])\n",
    "    s = setdiff(s_1, s_2) ∪ s_3\n",
    "    return collect(s)\n",
    "end\n",
    "\n",
    "function delta_f(X, W, idx_1, idx_2)\n",
    "    # Calculate the difference in objective function after the swap\n",
    "    col_1 = find_column(X, idx_1)\n",
    "    col_2 = find_column(X, idx_2)\n",
    "    \n",
    "    # Pre swap\n",
    "    colmates_1_pre = find_colmates(X, col_1)\n",
    "    colmates_2_pre = find_colmates(X, col_2)\n",
    "    loss_1 = sum(W[idx_1, colmates_1_pre]) + sum(W[colmates_1_pre, idx_1]) - W[idx_1, idx_1]\n",
    "    loss_2 = sum(W[idx_2, colmates_2_pre]) + sum(W[colmates_2_pre, idx_2]) - W[idx_2, idx_2]\n",
    "    \n",
    "    # Post swap\n",
    "    colmates_1_post = update_colmates(colmates_2_pre, idx_2, idx_1)\n",
    "    colmates_2_post = update_colmates(colmates_1_pre, idx_1, idx_2)\n",
    "    gain_1 = sum(W[idx_2, colmates_2_post]) + sum(W[colmates_2_post, idx_2]) - W[idx_2, idx_2]\n",
    "    gain_2 = sum(W[idx_1, colmates_1_post]) + sum(W[colmates_1_post, idx_1]) - W[idx_1, idx_1]\n",
    "    \n",
    "    d_f = (gain_1 + gain_2) - (loss_1 + loss_2)\n",
    "    return d_f\n",
    "end"
   ]
  },
  {
   "cell_type": "code",
   "execution_count": 13,
   "id": "24f66c94-f317-460e-801f-5f89484b21d5",
   "metadata": {},
   "outputs": [
    {
     "data": {
      "text/plain": [
       "swap_rows! (generic function with 1 method)"
      ]
     },
     "execution_count": 13,
     "metadata": {},
     "output_type": "execute_result"
    }
   ],
   "source": [
    "function swap_rows!(X, idx_1, idx_2)\n",
    "    X[idx_1, :], X[idx_2, :] = X[idx_2, :], X[idx_1, :]\n",
    "end"
   ]
  },
  {
   "cell_type": "code",
   "execution_count": 14,
   "id": "56b8f043-2b3c-47ee-9f1e-95999869eda9",
   "metadata": {},
   "outputs": [
    {
     "name": "stderr",
     "output_type": "stream",
     "text": [
      "\u001b[32mProgress:   0%|                                         |  ETA: 2:51:53\u001b[39m[39m"
     ]
    },
    {
     "name": "stdout",
     "output_type": "stream",
     "text": [
      "Trial: 48347, Curr_f: 1381927, d_f: 12\n"
     ]
    },
    {
     "name": "stderr",
     "output_type": "stream",
     "text": [
      "\u001b[32mProgress:   0%|                                         |  ETA: 3:02:21\u001b[39m"
     ]
    },
    {
     "name": "stdout",
     "output_type": "stream",
     "text": [
      "Trial: 68378, Curr_f: 1381943, d_f: 28\n"
     ]
    },
    {
     "name": "stderr",
     "output_type": "stream",
     "text": [
      "\u001b[32mProgress:   0%|                                         |  ETA: 2:32:57\u001b[39m"
     ]
    },
    {
     "name": "stdout",
     "output_type": "stream",
     "text": [
      "Trial: 146229, Curr_f: 1381947, d_f: 32\n"
     ]
    },
    {
     "name": "stderr",
     "output_type": "stream",
     "text": [
      "\u001b[32mProgress:   0%|                                         |  ETA: 2:31:48\u001b[39m"
     ]
    },
    {
     "name": "stdout",
     "output_type": "stream",
     "text": [
      "Trial: 152555, Curr_f: 1382017, d_f: 102\n"
     ]
    },
    {
     "name": "stderr",
     "output_type": "stream",
     "text": [
      "\u001b[32mProgress:   0%|▏                                        |  ETA: 2:31:14\u001b[39m"
     ]
    },
    {
     "name": "stdout",
     "output_type": "stream",
     "text": [
      "Trial: 156735, Curr_f: 1382033, d_f: 118\n"
     ]
    },
    {
     "name": "stderr",
     "output_type": "stream",
     "text": [
      "\u001b[32mProgress:   0%|▏                                        |  ETA: 2:26:13\u001b[39m"
     ]
    },
    {
     "name": "stdout",
     "output_type": "stream",
     "text": [
      "Trial: 200656, Curr_f: 1382052, d_f: 137\n"
     ]
    },
    {
     "name": "stderr",
     "output_type": "stream",
     "text": [
      "\u001b[32mProgress:   0%|▏                                        |  ETA: 2:20:36\u001b[39m"
     ]
    },
    {
     "name": "stdout",
     "output_type": "stream",
     "text": [
      "Trial: 273265, Curr_f: 1382063, d_f: 148\n"
     ]
    },
    {
     "name": "stderr",
     "output_type": "stream",
     "text": [
      "\u001b[32mProgress:   0%|▏                                        |  ETA: 2:20:23\u001b[39m"
     ]
    },
    {
     "name": "stdout",
     "output_type": "stream",
     "text": [
      "Trial: 281034, Curr_f: 1382074, d_f: 159\n"
     ]
    },
    {
     "name": "stderr",
     "output_type": "stream",
     "text": [
      "\u001b[32mProgress:   0%|▏                                        |  ETA: 2:19:06\u001b[39m"
     ]
    },
    {
     "name": "stdout",
     "output_type": "stream",
     "text": [
      "Trial: 312971, Curr_f: 1382083, d_f: 168\n"
     ]
    },
    {
     "name": "stderr",
     "output_type": "stream",
     "text": [
      "\u001b[32mProgress:   0%|▏                                        |  ETA: 2:16:22\u001b[39m"
     ]
    },
    {
     "name": "stdout",
     "output_type": "stream",
     "text": [
      "Trial: 388231, Curr_f: 1382110, d_f: 195\n"
     ]
    },
    {
     "name": "stderr",
     "output_type": "stream",
     "text": [
      "\u001b[32mProgress:   0%|▏                                        |  ETA: 2:15:00\u001b[39m"
     ]
    },
    {
     "name": "stdout",
     "output_type": "stream",
     "text": [
      "Trial: 453952, Curr_f: 1382131, d_f: 216\n"
     ]
    },
    {
     "name": "stderr",
     "output_type": "stream",
     "text": [
      "\u001b[32mProgress:   0%|▎                                        |  ETA: 2:14:25\u001b[39m"
     ]
    },
    {
     "name": "stdout",
     "output_type": "stream",
     "text": [
      "Trial: 480235, Curr_f: 1382135, d_f: 220\n"
     ]
    },
    {
     "name": "stderr",
     "output_type": "stream",
     "text": [
      "\u001b[32mProgress:   1%|▎                                        |  ETA: 2:13:04\u001b[39m"
     ]
    },
    {
     "name": "stdout",
     "output_type": "stream",
     "text": [
      "Trial: 562079, Curr_f: 1382141, d_f: 226\n"
     ]
    },
    {
     "name": "stderr",
     "output_type": "stream",
     "text": [
      "\u001b[32mProgress:   1%|▎                                        |  ETA: 2:12:33\u001b[39m"
     ]
    },
    {
     "name": "stdout",
     "output_type": "stream",
     "text": [
      "Trial: 632961, Curr_f: 1382145, d_f: 230\n"
     ]
    },
    {
     "name": "stderr",
     "output_type": "stream",
     "text": [
      "\u001b[32mProgress:   1%|▎                                        |  ETA: 2:12:01\u001b[39m"
     ]
    },
    {
     "name": "stdout",
     "output_type": "stream",
     "text": [
      "Trial: 669690, Curr_f: 1382147, d_f: 232\n"
     ]
    },
    {
     "name": "stderr",
     "output_type": "stream",
     "text": [
      "\u001b[32mProgress:   1%|▎                                        |  ETA: 2:11:50\u001b[39m"
     ]
    },
    {
     "name": "stdout",
     "output_type": "stream",
     "text": [
      "Trial: 679852, Curr_f: 1382155, d_f: 240\n"
     ]
    },
    {
     "name": "stderr",
     "output_type": "stream",
     "text": [
      "\u001b[32mProgress:   1%|▍                                        |  ETA: 2:10:57\u001b[39m"
     ]
    },
    {
     "name": "stdout",
     "output_type": "stream",
     "text": [
      "Trial: 772022, Curr_f: 1382163, d_f: 248\n"
     ]
    },
    {
     "name": "stderr",
     "output_type": "stream",
     "text": [
      "\u001b[32mProgress:   1%|▍                                        |  ETA: 2:10:48\u001b[39m"
     ]
    },
    {
     "name": "stdout",
     "output_type": "stream",
     "text": [
      "Trial: 817549, Curr_f: 1382167, d_f: 252\n"
     ]
    },
    {
     "name": "stderr",
     "output_type": "stream",
     "text": [
      "\u001b[32mProgress:   1%|▍                                        |  ETA: 2:10:43\u001b[39m"
     ]
    },
    {
     "name": "stdout",
     "output_type": "stream",
     "text": [
      "Trial: 879304, Curr_f: 1382171, d_f: 256\n"
     ]
    },
    {
     "name": "stderr",
     "output_type": "stream",
     "text": [
      "\u001b[32mProgress:   1%|▍                                        |  ETA: 2:10:43\u001b[39m"
     ]
    },
    {
     "name": "stdout",
     "output_type": "stream",
     "text": [
      "Trial: 896284, Curr_f: 1382179, d_f: 264\n"
     ]
    },
    {
     "name": "stderr",
     "output_type": "stream",
     "text": [
      "\u001b[32mProgress:   1%|▍                                        |  ETA: 2:10:38\u001b[39m"
     ]
    },
    {
     "name": "stdout",
     "output_type": "stream",
     "text": [
      "Trial: 909618, Curr_f: 1382182, d_f: 267\n"
     ]
    },
    {
     "name": "stderr",
     "output_type": "stream",
     "text": [
      "\u001b[32mProgress:   1%|▍                                        |  ETA: 2:10:26\u001b[39m"
     ]
    },
    {
     "name": "stdout",
     "output_type": "stream",
     "text": [
      "Trial: 958943, Curr_f: 1382185, d_f: 270\n"
     ]
    },
    {
     "name": "stderr",
     "output_type": "stream",
     "text": [
      "\u001b[32mProgress:   1%|▍                                        |  ETA: 2:10:12\u001b[39m"
     ]
    },
    {
     "name": "stdout",
     "output_type": "stream",
     "text": [
      "Trial: 1056953, Curr_f: 1382186, d_f: 271\n"
     ]
    },
    {
     "name": "stderr",
     "output_type": "stream",
     "text": [
      "\u001b[32mProgress:   1%|▌                                        |  ETA: 2:09:51\u001b[39m"
     ]
    },
    {
     "name": "stdout",
     "output_type": "stream",
     "text": [
      "Trial: 1146012, Curr_f: 1382207, d_f: 292\n"
     ]
    },
    {
     "name": "stderr",
     "output_type": "stream",
     "text": [
      "\u001b[32mProgress:   1%|▌                                        |  ETA: 2:09:42\u001b[39m"
     ]
    },
    {
     "name": "stdout",
     "output_type": "stream",
     "text": [
      "Trial: 1166073, Curr_f: 1382209, d_f: 294\n"
     ]
    },
    {
     "name": "stderr",
     "output_type": "stream",
     "text": [
      "\u001b[32mProgress:   1%|▌                                        |  ETA: 2:09:37\u001b[39m"
     ]
    },
    {
     "name": "stdout",
     "output_type": "stream",
     "text": [
      "Trial: 1180613, Curr_f: 1382222, d_f: 307\n"
     ]
    },
    {
     "name": "stderr",
     "output_type": "stream",
     "text": [
      "\u001b[32mProgress:   1%|▌                                        |  ETA: 2:09:22\u001b[39m"
     ]
    },
    {
     "name": "stdout",
     "output_type": "stream",
     "text": [
      "Trial: 1219579, Curr_f: 1382248, d_f: 333\n"
     ]
    },
    {
     "name": "stderr",
     "output_type": "stream",
     "text": [
      "\u001b[32mProgress:   1%|▌                                        |  ETA: 2:09:02\u001b[39m"
     ]
    },
    {
     "name": "stdout",
     "output_type": "stream",
     "text": [
      "Trial: 1268990, Curr_f: 1382279, d_f: 364\n"
     ]
    },
    {
     "name": "stderr",
     "output_type": "stream",
     "text": [
      "\u001b[32mProgress:   1%|▋                                        |  ETA: 2:08:35\u001b[39m"
     ]
    },
    {
     "name": "stdout",
     "output_type": "stream",
     "text": [
      "Trial: 1419200, Curr_f: 1382289, d_f: 374\n"
     ]
    },
    {
     "name": "stderr",
     "output_type": "stream",
     "text": [
      "\u001b[32mProgress:   2%|▋                                        |  ETA: 2:08:24\u001b[39m"
     ]
    },
    {
     "name": "stdout",
     "output_type": "stream",
     "text": [
      "Trial: 1527617, Curr_f: 1382297, d_f: 382\n"
     ]
    },
    {
     "name": "stderr",
     "output_type": "stream",
     "text": [
      "\u001b[32mProgress:   2%|▋                                        |  ETA: 2:08:24\u001b[39m"
     ]
    },
    {
     "name": "stdout",
     "output_type": "stream",
     "text": [
      "Trial: 1569133, Curr_f: 1382300, d_f: 385\n"
     ]
    },
    {
     "name": "stderr",
     "output_type": "stream",
     "text": [
      "\u001b[32mProgress:   2%|▋                                        |  ETA: 2:08:20\u001b[39m"
     ]
    },
    {
     "name": "stdout",
     "output_type": "stream",
     "text": [
      "Trial: 1636381, Curr_f: 1382307, d_f: 392\n"
     ]
    },
    {
     "name": "stderr",
     "output_type": "stream",
     "text": [
      "\u001b[32mProgress:   2%|▋                                        |  ETA: 2:08:22\u001b[39m"
     ]
    },
    {
     "name": "stdout",
     "output_type": "stream",
     "text": [
      "Trial: 1655062, Curr_f: 1382327, d_f: 412\n"
     ]
    },
    {
     "name": "stderr",
     "output_type": "stream",
     "text": [
      "\u001b[32mProgress:   2%|▊                                        |  ETA: 2:08:40\u001b[39m"
     ]
    },
    {
     "name": "stdout",
     "output_type": "stream",
     "text": [
      "Trial: 1744339, Curr_f: 1382333, d_f: 418\n"
     ]
    },
    {
     "name": "stderr",
     "output_type": "stream",
     "text": [
      "\u001b[32mProgress:   2%|▊                                        |  ETA: 2:08:51\u001b[39m"
     ]
    },
    {
     "name": "stdout",
     "output_type": "stream",
     "text": [
      "Trial: 1806609, Curr_f: 1382346, d_f: 431\n"
     ]
    },
    {
     "name": "stderr",
     "output_type": "stream",
     "text": [
      "\u001b[32mProgress:   2%|▉                                        |  ETA: 2:08:56\u001b[39m"
     ]
    },
    {
     "name": "stdout",
     "output_type": "stream",
     "text": [
      "Trial: 1989722, Curr_f: 1382355, d_f: 440\n"
     ]
    },
    {
     "name": "stderr",
     "output_type": "stream",
     "text": [
      "\u001b[32mProgress:   2%|▉                                        |  ETA: 2:08:52\u001b[39m"
     ]
    },
    {
     "name": "stdout",
     "output_type": "stream",
     "text": [
      "Trial: 2014117, Curr_f: 1382360, d_f: 445\n"
     ]
    },
    {
     "name": "stderr",
     "output_type": "stream",
     "text": [
      "\u001b[32mProgress:   2%|▉                                        |  ETA: 2:08:50\u001b[39m"
     ]
    },
    {
     "name": "stdout",
     "output_type": "stream",
     "text": [
      "Trial: 2067887, Curr_f: 1382367, d_f: 452\n"
     ]
    },
    {
     "name": "stderr",
     "output_type": "stream",
     "text": [
      "\u001b[32mProgress:   2%|▉                                        |  ETA: 2:09:01\u001b[39m"
     ]
    },
    {
     "name": "stdout",
     "output_type": "stream",
     "text": [
      "Trial: 2098950, Curr_f: 1382372, d_f: 457\n"
     ]
    },
    {
     "name": "stderr",
     "output_type": "stream",
     "text": [
      "\u001b[32mProgress:   2%|▉                                        |  ETA: 2:09:39\u001b[39m"
     ]
    },
    {
     "name": "stdout",
     "output_type": "stream",
     "text": [
      "Trial: 2142353, Curr_f: 1382378, d_f: 463\n"
     ]
    },
    {
     "name": "stderr",
     "output_type": "stream",
     "text": [
      "\u001b[32mProgress:   2%|█                                        |  ETA: 2:09:16\u001b[39m"
     ]
    },
    {
     "name": "stdout",
     "output_type": "stream",
     "text": [
      "Trial: 2308527, Curr_f: 1382387, d_f: 472\n"
     ]
    },
    {
     "name": "stderr",
     "output_type": "stream",
     "text": [
      "\u001b[32mProgress:   2%|█                                        |  ETA: 2:08:44\u001b[39m"
     ]
    },
    {
     "name": "stdout",
     "output_type": "stream",
     "text": [
      "Trial: 2455315, Curr_f: 1382399, d_f: 484\n"
     ]
    },
    {
     "name": "stderr",
     "output_type": "stream",
     "text": [
      "\u001b[32mProgress:   3%|█                                        |  ETA: 2:08:25\u001b[39m"
     ]
    },
    {
     "name": "stdout",
     "output_type": "stream",
     "text": [
      "Trial: 2547559, Curr_f: 1382407, d_f: 492\n"
     ]
    },
    {
     "name": "stderr",
     "output_type": "stream",
     "text": [
      "\u001b[32mProgress:   3%|█▏                                       |  ETA: 2:08:05\u001b[39m"
     ]
    },
    {
     "name": "stdout",
     "output_type": "stream",
     "text": [
      "Trial: 2659796, Curr_f: 1382411, d_f: 496\n"
     ]
    },
    {
     "name": "stderr",
     "output_type": "stream",
     "text": [
      "\u001b[32mProgress:   3%|█▏                                       |  ETA: 2:07:56\u001b[39m"
     ]
    },
    {
     "name": "stdout",
     "output_type": "stream",
     "text": [
      "Trial: 2714388, Curr_f: 1382415, d_f: 500\n"
     ]
    },
    {
     "name": "stderr",
     "output_type": "stream",
     "text": [
      "\u001b[32mProgress:   3%|█▏                                       |  ETA: 2:07:46\u001b[39m"
     ]
    },
    {
     "name": "stdout",
     "output_type": "stream",
     "text": [
      "Trial: 2799638, Curr_f: 1382430, d_f: 515\n"
     ]
    },
    {
     "name": "stderr",
     "output_type": "stream",
     "text": [
      "\u001b[32mProgress:   3%|█▎                                       |  ETA: 2:06:50\u001b[39m"
     ]
    },
    {
     "name": "stdout",
     "output_type": "stream",
     "text": [
      "Trial: 3087132, Curr_f: 1382441, d_f: 526\n"
     ]
    },
    {
     "name": "stderr",
     "output_type": "stream",
     "text": [
      "\u001b[32mProgress:   3%|█▍                                       |  ETA: 2:06:10\u001b[39m"
     ]
    },
    {
     "name": "stdout",
     "output_type": "stream",
     "text": [
      "Trial: 3204974, Curr_f: 1382444, d_f: 529\n"
     ]
    },
    {
     "name": "stderr",
     "output_type": "stream",
     "text": [
      "\u001b[32mProgress:   3%|█▍                                       |  ETA: 2:04:57\u001b[39m"
     ]
    },
    {
     "name": "stdout",
     "output_type": "stream",
     "text": [
      "Trial: 3417904, Curr_f: 1382445, d_f: 530\n"
     ]
    },
    {
     "name": "stderr",
     "output_type": "stream",
     "text": [
      "\u001b[32mProgress:   4%|█▌                                       |  ETA: 2:04:20\u001b[39m"
     ]
    },
    {
     "name": "stdout",
     "output_type": "stream",
     "text": [
      "Trial: 3546079, Curr_f: 1382455, d_f: 540\n"
     ]
    },
    {
     "name": "stderr",
     "output_type": "stream",
     "text": [
      "\u001b[32mProgress:   4%|█▌                                       |  ETA: 2:03:41\u001b[39m"
     ]
    },
    {
     "name": "stdout",
     "output_type": "stream",
     "text": [
      "Trial: 3685377, Curr_f: 1382465, d_f: 550\n"
     ]
    },
    {
     "name": "stderr",
     "output_type": "stream",
     "text": [
      "\u001b[32mProgress:   4%|█▋                                       |  ETA: 2:02:13\u001b[39m"
     ]
    },
    {
     "name": "stdout",
     "output_type": "stream",
     "text": [
      "Trial: 4013538, Curr_f: 1382466, d_f: 551\n"
     ]
    },
    {
     "name": "stderr",
     "output_type": "stream",
     "text": [
      "\u001b[32mProgress:   4%|█▊                                       |  ETA: 2:00:57\u001b[39m"
     ]
    },
    {
     "name": "stdout",
     "output_type": "stream",
     "text": [
      "Trial: 4313799, Curr_f: 1382477, d_f: 562\n"
     ]
    },
    {
     "name": "stderr",
     "output_type": "stream",
     "text": [
      "\u001b[32mProgress:   4%|█▊                                       |  ETA: 2:00:50\u001b[39m"
     ]
    },
    {
     "name": "stdout",
     "output_type": "stream",
     "text": [
      "Trial: 4351968, Curr_f: 1382484, d_f: 569\n"
     ]
    },
    {
     "name": "stderr",
     "output_type": "stream",
     "text": [
      "\u001b[32mProgress:   4%|█▊                                       |  ETA: 2:00:37\u001b[39m"
     ]
    },
    {
     "name": "stdout",
     "output_type": "stream",
     "text": [
      "Trial: 4420708, Curr_f: 1382495, d_f: 580\n"
     ]
    },
    {
     "name": "stderr",
     "output_type": "stream",
     "text": [
      "\u001b[32mProgress:   5%|█▉                                       |  ETA: 2:00:18\u001b[39m"
     ]
    },
    {
     "name": "stdout",
     "output_type": "stream",
     "text": [
      "Trial: 4501418, Curr_f: 1382503, d_f: 588\n"
     ]
    },
    {
     "name": "stderr",
     "output_type": "stream",
     "text": [
      "\u001b[32mProgress:   5%|█▉                                       |  ETA: 2:00:10\u001b[39m"
     ]
    },
    {
     "name": "stdout",
     "output_type": "stream",
     "text": [
      "Trial: 4538857, Curr_f: 1382508, d_f: 593\n"
     ]
    },
    {
     "name": "stderr",
     "output_type": "stream",
     "text": [
      "\u001b[32mProgress:   5%|█▉                                       |  ETA: 1:59:33\u001b[39m"
     ]
    },
    {
     "name": "stdout",
     "output_type": "stream",
     "text": [
      "Trial: 4721432, Curr_f: 1382514, d_f: 599\n"
     ]
    },
    {
     "name": "stderr",
     "output_type": "stream",
     "text": [
      "\u001b[32mProgress:   5%|██                                       |  ETA: 1:59:31\u001b[39m"
     ]
    },
    {
     "name": "stdout",
     "output_type": "stream",
     "text": [
      "Trial: 4732538, Curr_f: 1382550, d_f: 635\n"
     ]
    },
    {
     "name": "stderr",
     "output_type": "stream",
     "text": [
      "\u001b[32mProgress:   5%|██▏                                      |  ETA: 1:58:34\u001b[39m"
     ]
    },
    {
     "name": "stdout",
     "output_type": "stream",
     "text": [
      "Trial: 5043032, Curr_f: 1382552, d_f: 637\n"
     ]
    },
    {
     "name": "stderr",
     "output_type": "stream",
     "text": [
      "\u001b[32mProgress:   5%|██▏                                      |  ETA: 1:58:10\u001b[39m"
     ]
    },
    {
     "name": "stdout",
     "output_type": "stream",
     "text": [
      "Trial: 5121700, Curr_f: 1382584, d_f: 669\n"
     ]
    },
    {
     "name": "stderr",
     "output_type": "stream",
     "text": [
      "\u001b[32mProgress:   5%|██▏                                      |  ETA: 1:57:43\u001b[39m"
     ]
    },
    {
     "name": "stdout",
     "output_type": "stream",
     "text": [
      "Trial: 5218636, Curr_f: 1382598, d_f: 683\n"
     ]
    },
    {
     "name": "stderr",
     "output_type": "stream",
     "text": [
      "\u001b[32mProgress:   6%|██▍                                      |  ETA: 1:55:36\u001b[39m"
     ]
    },
    {
     "name": "stdout",
     "output_type": "stream",
     "text": [
      "Trial: 5775695, Curr_f: 1382643, d_f: 728\n"
     ]
    },
    {
     "name": "stderr",
     "output_type": "stream",
     "text": [
      "\u001b[32mProgress:   6%|██▌                                      |  ETA: 1:54:42\u001b[39m"
     ]
    },
    {
     "name": "stdout",
     "output_type": "stream",
     "text": [
      "Trial: 6062163, Curr_f: 1382650, d_f: 735\n"
     ]
    },
    {
     "name": "stderr",
     "output_type": "stream",
     "text": [
      "\u001b[32mProgress:   7%|██▋                                      |  ETA: 1:53:06\u001b[39m"
     ]
    },
    {
     "name": "stdout",
     "output_type": "stream",
     "text": [
      "Trial: 6551089, Curr_f: 1382652, d_f: 737\n"
     ]
    },
    {
     "name": "stderr",
     "output_type": "stream",
     "text": [
      "\u001b[32mProgress:   7%|██▉                                      |  ETA: 1:51:41\u001b[39m"
     ]
    },
    {
     "name": "stdout",
     "output_type": "stream",
     "text": [
      "Trial: 7017020, Curr_f: 1382688, d_f: 773\n"
     ]
    },
    {
     "name": "stderr",
     "output_type": "stream",
     "text": [
      "\u001b[32mProgress:   7%|███▏                                     |  ETA: 1:50:16\u001b[39m"
     ]
    },
    {
     "name": "stdout",
     "output_type": "stream",
     "text": [
      "Trial: 7497846, Curr_f: 1382690, d_f: 775\n"
     ]
    },
    {
     "name": "stderr",
     "output_type": "stream",
     "text": [
      "\u001b[32mProgress:   8%|███▏                                     |  ETA: 1:49:54\u001b[39m"
     ]
    },
    {
     "name": "stdout",
     "output_type": "stream",
     "text": [
      "Trial: 7631055, Curr_f: 1382702, d_f: 787\n"
     ]
    },
    {
     "name": "stderr",
     "output_type": "stream",
     "text": [
      "\u001b[32mProgress:   8%|███▍                                     |  ETA: 1:48:27\u001b[39m"
     ]
    },
    {
     "name": "stdout",
     "output_type": "stream",
     "text": [
      "Trial: 8300012, Curr_f: 1382721, d_f: 806\n"
     ]
    },
    {
     "name": "stderr",
     "output_type": "stream",
     "text": [
      "\u001b[32mProgress:   8%|███▍                                     |  ETA: 1:48:27\u001b[39m"
     ]
    },
    {
     "name": "stdout",
     "output_type": "stream",
     "text": [
      "Trial: 8300790, Curr_f: 1382725, d_f: 810\n"
     ]
    },
    {
     "name": "stderr",
     "output_type": "stream",
     "text": [
      "\u001b[32mProgress:   8%|███▌                                     |  ETA: 1:48:08\u001b[39m"
     ]
    },
    {
     "name": "stdout",
     "output_type": "stream",
     "text": [
      "Trial: 8443377, Curr_f: 1382733, d_f: 818\n"
     ]
    },
    {
     "name": "stderr",
     "output_type": "stream",
     "text": [
      "\u001b[32mProgress:   9%|███▊                                     |  ETA: 1:46:44\u001b[39m"
     ]
    },
    {
     "name": "stdout",
     "output_type": "stream",
     "text": [
      "Trial: 9107319, Curr_f: 1382779, d_f: 864\n"
     ]
    },
    {
     "name": "stderr",
     "output_type": "stream",
     "text": [
      "\u001b[32mProgress:  10%|███▉                                     |  ETA: 1:45:58\u001b[39m"
     ]
    },
    {
     "name": "stdout",
     "output_type": "stream",
     "text": [
      "Trial: 9539058, Curr_f: 1382796, d_f: 881\n"
     ]
    },
    {
     "name": "stderr",
     "output_type": "stream",
     "text": [
      "\u001b[32mProgress:  10%|████                                     |  ETA: 1:45:39\u001b[39m"
     ]
    },
    {
     "name": "stdout",
     "output_type": "stream",
     "text": [
      "Trial: 9730764, Curr_f: 1382797, d_f: 882\n"
     ]
    },
    {
     "name": "stderr",
     "output_type": "stream",
     "text": [
      "\u001b[32mProgress:  10%|████                                     |  ETA: 1:45:29\u001b[39m"
     ]
    },
    {
     "name": "stdout",
     "output_type": "stream",
     "text": [
      "Trial: 9827735, Curr_f: 1382810, d_f: 895\n"
     ]
    },
    {
     "name": "stderr",
     "output_type": "stream",
     "text": [
      "\u001b[32mProgress:  10%|████▎                                    |  ETA: 1:44:16\u001b[39m"
     ]
    },
    {
     "name": "stdout",
     "output_type": "stream",
     "text": [
      "Trial: 10413617, Curr_f: 1382827, d_f: 912\n"
     ]
    },
    {
     "name": "stderr",
     "output_type": "stream",
     "text": [
      "\u001b[32mProgress:  11%|████▎                                    |  ETA: 1:44:04\u001b[39m"
     ]
    },
    {
     "name": "stdout",
     "output_type": "stream",
     "text": [
      "Trial: 10507612, Curr_f: 1382833, d_f: 918\n"
     ]
    },
    {
     "name": "stderr",
     "output_type": "stream",
     "text": [
      "\u001b[32mProgress:  11%|████▍                                    |  ETA: 1:43:35\u001b[39m"
     ]
    },
    {
     "name": "stdout",
     "output_type": "stream",
     "text": [
      "Trial: 10738103, Curr_f: 1382889, d_f: 974\n"
     ]
    },
    {
     "name": "stderr",
     "output_type": "stream",
     "text": [
      "\u001b[32mProgress: 100%|█████████████████████████████████████████| Time: 3:40:25\u001b[39m\n"
     ]
    },
    {
     "name": "stdout",
     "output_type": "stream",
     "text": [
      "13225.725133 seconds (10.79 G allocations: 10.096 TiB, 5.49% gc time, 0.02% compilation time: 35% of which was recompilation)\n"
     ]
    }
   ],
   "source": [
    "@time begin\n",
    "    swap_list = []\n",
    "\n",
    "    @showprogress for trial in 1:100000000\n",
    "        # t = sample(1:T, 1)\n",
    "        t = sample(type_list, 1)\n",
    "        candidate_neurons = findall(dropdims(Y[:, t] .== 1, dims=2))\n",
    "        idx_1, idx_2 = sample(candidate_neurons, 2, replace=false)\n",
    "\n",
    "        d_f = delta_f(X, W, idx_1, idx_2)\n",
    "        if d_f > 0\n",
    "            swap_rows!(X, idx_1, idx_2)\n",
    "            curr_f += d_f\n",
    "            d_f = curr_f - orig_f\n",
    "            println(\"Trial: $trial, Curr_f: $curr_f, d_f: $d_f\")\n",
    "            push!(swap_list, (idx_1, idx_2))\n",
    "\n",
    "            file_path = joinpath(\"../results\", \"swap_list_$(Int(curr_f)).jld2\")\n",
    "            @save file_path swap_list\n",
    "        end\n",
    "    end\n",
    "end\n"
   ]
  },
  {
   "cell_type": "code",
   "execution_count": 15,
   "id": "55fb64dd-4acc-4468-b4eb-d90d1e64e21c",
   "metadata": {},
   "outputs": [
    {
     "data": {
      "text/plain": [
       "1382889"
      ]
     },
     "execution_count": 15,
     "metadata": {},
     "output_type": "execute_result"
    }
   ],
   "source": [
    "f(X, W)"
   ]
  }
 ],
 "metadata": {
  "kernelspec": {
   "display_name": "Julia 1.10.2",
   "language": "julia",
   "name": "julia-1.10"
  },
  "language_info": {
   "file_extension": ".jl",
   "mimetype": "application/julia",
   "name": "julia",
   "version": "1.10.2"
  }
 },
 "nbformat": 4,
 "nbformat_minor": 5
}
