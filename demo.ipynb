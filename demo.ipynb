{
 "cells": [
  {
   "cell_type": "markdown",
   "id": "1d6c2740",
   "metadata": {},
   "source": [
    "A demo notebook showing the flow of the algorithm (picking a ) "
   ]
  },
  {
   "cell_type": "code",
   "execution_count": 1,
   "id": "3941ecac-66b7-4ef5-8b3f-b9607a727c2d",
   "metadata": {},
   "outputs": [
    {
     "name": "stderr",
     "output_type": "stream",
     "text": [
      "<frozen importlib._bootstrap>:228: RuntimeWarning: scipy._lib.messagestream.MessageStream size changed, may indicate binary incompatibility. Expected 56 from C header, got 64 from PyObject\n"
     ]
    }
   ],
   "source": [
    "import copy\n",
    "import numpy as np\n",
    "from scipy.sparse import csr_matrix\n",
    "from tqdm import tqdm\n",
    "import utils"
   ]
  },
  {
   "cell_type": "code",
   "execution_count": 2,
   "id": "8c510027-fd29-42fa-b1b4-13a022b9b976",
   "metadata": {},
   "outputs": [],
   "source": [
    "path_neuron = './data/ol_columns.csv'\n",
    "path_synapse = './data/ol_connections.csv'"
   ]
  },
  {
   "cell_type": "code",
   "execution_count": 3,
   "id": "7f4aea52-2a11-4f3b-a9c2-e7027eb4d1f9",
   "metadata": {},
   "outputs": [],
   "source": [
    "df_neurons, N, K, T = utils.load_neurons(path_neuron)\n",
    "d_neuron, d_type = utils.define_dict(df_neurons, N, T)\n",
    "X, Y = utils.define_X_Y(df_neurons, d_type, N, K, T)\n",
    "W = utils.load_synapses(path_synapse, d_neuron, N)\n",
    "W_sparse = csr_matrix(W)"
   ]
  },
  {
   "cell_type": "code",
   "execution_count": 4,
   "id": "0076b279-164e-4123-9675-a6e99dd00f58",
   "metadata": {},
   "outputs": [],
   "source": [
    "d_neurons_type = utils.neuron_list_per_type(Y)"
   ]
  },
  {
   "cell_type": "code",
   "execution_count": 5,
   "id": "050054df-9aa3-4eca-88c7-2a5df7f97edf",
   "metadata": {},
   "outputs": [
    {
     "data": {
      "text/plain": [
       "1381915.0"
      ]
     },
     "execution_count": 5,
     "metadata": {},
     "output_type": "execute_result"
    }
   ],
   "source": [
    "f_curr= utils.f(X, W_sparse)  # starting value of the objective function\n",
    "f_curr"
   ]
  },
  {
   "cell_type": "code",
   "execution_count": 6,
   "id": "6cfa614f",
   "metadata": {},
   "outputs": [],
   "source": [
    "def process_epsilon(X, W, W_sparse, f_curr, d_neurons_type, eps, T, seed, max_iter=200):\n",
    "    \"\"\"\n",
    "    Subprocess to compute the best assignment for current seed and epsilon. \n",
    "\n",
    "    Args:\n",
    "        X (np.array): neuron-column assigment\n",
    "        W (np.array): synaptic connectivity matrix\n",
    "        W_sparse (csr_matrix): sparse matrix version of W\n",
    "        f_curr (float): current value of the objective function\n",
    "        d_neurons_type (dict): cell type index -> list of neuron indices that belong to that cell type\n",
    "        eps (float): epsilon for random selection\n",
    "        T (int): number of types\n",
    "        seed (int): random seed\n",
    "        max_iter (int): maximum iterations, default is 200\n",
    "    \n",
    "    Returns:\n",
    "        f_history (list, int): history of objective functions\n",
    "        diff_history (list, int): history of increase in objective functions\n",
    "        X_max (np.array): assignment matrix with highest objective function\n",
    "        f_max (int): highest objective function\n",
    "        eps (float): epsilon\n",
    "        seed (int): random seed\n",
    "    \"\"\"\n",
    "    \n",
    "    np.random.seed(seed)\n",
    "    f_history = []\n",
    "    diff_history = []\n",
    "    iteration = 0\n",
    "    X_max = X\n",
    "    f_max = f_curr\n",
    "    while True:\n",
    "        diff_per_type = []\n",
    "        X_new_per_type = []\n",
    "\n",
    "        for t in tqdm(range(T)):\n",
    "            diff, X_new = utils.diff_given_type(X, W, W_sparse, t, f_curr, d_neurons_type)\n",
    "            diff_per_type.append(diff)\n",
    "            X_new_per_type.append(X_new)\n",
    "        diff_history.append(dict(zip(range(T), diff_per_type)))\n",
    "        \n",
    "        # perform the reassignment\n",
    "        max_diff = max(diff_per_type)\n",
    "        print(max_diff)\n",
    "        if np.random.uniform(0, 1) < eps:\n",
    "            type_idx = np.random.choice(range(T))\n",
    "        else: \n",
    "            type_idx = diff_per_type.index(max(diff_per_type))  # cell type that has the max improvement in the objective function\n",
    "\n",
    "        X = copy.deepcopy(X_new_per_type[type_idx])\n",
    "        f_curr = utils.f(X, W_sparse)  # update the current objective function\n",
    "        print(f_curr)\n",
    "\n",
    "        if f_curr > f_max:\n",
    "            f_max = f_curr\n",
    "            X_max = X\n",
    "        f_history.append(f_curr)\n",
    "        iteration += 1\n",
    "        if iteration >= max_iter or max_diff == 0:\n",
    "            break\n",
    "    return f_history, diff_history, X_max, f_max, eps, seed"
   ]
  },
  {
   "cell_type": "code",
   "execution_count": 7,
   "id": "2c8f0c1a",
   "metadata": {},
   "outputs": [],
   "source": [
    "seed = 440 # test a single seed with different epsilons\n",
    "maximum_iter = 1 # set to 1 for code testing\n",
    "eps = 0.95 # used for our final result"
   ]
  },
  {
   "cell_type": "code",
   "execution_count": 8,
   "id": "d720accc-3db2-47d6-add6-ef598a21cf0b",
   "metadata": {},
   "outputs": [
    {
     "name": "stderr",
     "output_type": "stream",
     "text": [
      "100%|██████████| 31/31 [01:25<00:00,  2.77s/it]"
     ]
    },
    {
     "name": "stdout",
     "output_type": "stream",
     "text": [
      "1553.0\n",
      "1381963.0\n"
     ]
    },
    {
     "name": "stderr",
     "output_type": "stream",
     "text": [
      "\n"
     ]
    }
   ],
   "source": [
    "# solve assignment problem\n",
    "f_history, diff_history, X_max,f_max, eps,seed = process_epsilon(X, W, W_sparse, f_curr, d_neurons_type, eps, T, seed, max_iter=maximum_iter) "
   ]
  }
 ],
 "metadata": {
  "kernelspec": {
   "display_name": "Python 3 (ipykernel)",
   "language": "python",
   "name": "python3"
  },
  "language_info": {
   "codemirror_mode": {
    "name": "ipython",
    "version": 3
   },
   "file_extension": ".py",
   "mimetype": "text/x-python",
   "name": "python",
   "nbconvert_exporter": "python",
   "pygments_lexer": "ipython3",
   "version": "3.9.12"
  }
 },
 "nbformat": 4,
 "nbformat_minor": 5
}
